{
 "cells": [
  {
   "cell_type": "code",
   "execution_count": null,
   "id": "85c81d68-caeb-46c3-970b-36fde1b3b5a7",
   "metadata": {},
   "outputs": [],
   "source": []
  }
 ],
 "metadata": {
  "kernelspec": {
   "display_name": "",
   "name": ""
  },
  "language_info": {
   "name": ""
  }
 },
 "nbformat": 4,
 "nbformat_minor": 5
}
